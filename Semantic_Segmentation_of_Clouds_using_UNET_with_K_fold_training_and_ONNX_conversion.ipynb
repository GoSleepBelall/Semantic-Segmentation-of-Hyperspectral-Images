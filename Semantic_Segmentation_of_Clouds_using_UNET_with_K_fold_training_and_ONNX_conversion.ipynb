{
  "cells": [
    {
      "cell_type": "markdown",
      "metadata": {
        "id": "4HRmgrUq6ZE7"
      },
      "source": [
        "# Semantic Segmentation of Clouds using UNet"
      ]
    },
    {
      "cell_type": "code",
      "source": [
        "from google.colab import drive\n",
        "drive.mount('/content/drive')"
      ],
      "metadata": {
        "id": "S-XyeCt-o1vy",
        "colab": {
          "base_uri": "https://localhost:8080/"
        },
        "outputId": "3aa98e76-5d1a-42db-f3fb-b1c12eab2b52"
      },
      "execution_count": null,
      "outputs": [
        {
          "output_type": "stream",
          "name": "stdout",
          "text": [
            "Drive already mounted at /content/drive; to attempt to forcibly remount, call drive.mount(\"/content/drive\", force_remount=True).\n"
          ]
        }
      ]
    },
    {
      "cell_type": "markdown",
      "metadata": {
        "id": "YZYl1vQlucP5"
      },
      "source": [
        "## Import Dependencies'\n",
        "These libraries are used to perform semantic segmentation of clouds using UNet."
      ]
    },
    {
      "cell_type": "code",
      "execution_count": null,
      "metadata": {
        "id": "PHkqGlYP3hzl"
      },
      "outputs": [],
      "source": [
        "import numpy as np\n",
        "import tensorflow as tf\n",
        "import os\n",
        "import matplotlib.pyplot as plt\n",
        "from matplotlib.colors import ListedColormap\n",
        "from keras.models import Model\n",
        "from keras.layers import Input, Conv2D, MaxPooling2D, UpSampling2D, concatenate, Conv2DTranspose, BatchNormalization, Dropout, Lambda\n",
        "from keras.optimizers import Adam\n",
        "from keras.layers import Activation, MaxPool2D, Concatenate\n",
        "from sklearn.model_selection import KFold\n",
        "import pandas as pd"
      ]
    },
    {
      "cell_type": "markdown",
      "source": [
        "This is a chunk of code used to clear RAM in case of memory issues."
      ],
      "metadata": {
        "id": "CKM7Jm7E6iGX"
      }
    },
    {
      "cell_type": "code",
      "source": [
        "#Clear RAM\n",
        "import gc\n",
        "gc.collect()"
      ],
      "metadata": {
        "id": "Ta2_KIiMmvrM",
        "colab": {
          "base_uri": "https://localhost:8080/"
        },
        "outputId": "461b01f7-207d-4430-e905-a18ac1bb42a8"
      },
      "execution_count": null,
      "outputs": [
        {
          "output_type": "execute_result",
          "data": {
            "text/plain": [
              "0"
            ]
          },
          "metadata": {},
          "execution_count": 3
        }
      ]
    },
    {
      "cell_type": "markdown",
      "source": [
        "## Configure GPU\n",
        "To use the maximum capacity of Google Colab, We have to use cloud GPU, In case if you haven't setup GPU, go to runtime type, and add GPU as hardware accelerator."
      ],
      "metadata": {
        "id": "Ed_vrf37REsb"
      }
    },
    {
      "cell_type": "code",
      "source": [
        "device = '/GPU:0' if tf.config.experimental.list_physical_devices('GPU') else '/CPU:0'\n",
        "print(device)"
      ],
      "metadata": {
        "id": "LuDeXqReX9jo",
        "colab": {
          "base_uri": "https://localhost:8080/"
        },
        "outputId": "fce38c0e-b420-43eb-e097-76c02fd002d5"
      },
      "execution_count": null,
      "outputs": [
        {
          "output_type": "stream",
          "name": "stdout",
          "text": [
            "/GPU:0\n"
          ]
        }
      ]
    },
    {
      "cell_type": "markdown",
      "metadata": {
        "id": "xYRDKrrIueuY"
      },
      "source": [
        "## Import Dataset\n",
        "All operations related to Dataset was performed in this section including importing, exporting, tiling."
      ]
    },
    {
      "cell_type": "markdown",
      "source": [
        "### Load presaved dataset\n",
        "In case if you've already stored data somewhere in google drive, you can load the files here."
      ],
      "metadata": {
        "id": "smWnAxlHJVpr"
      }
    },
    {
      "cell_type": "code",
      "source": [
        "path = '/content/drive/MyDrive/Colab Notebooks/ZAIT/DATA/subscenes/S2A_MSIL1C_20180101T010721_N0206_R045_T53HLD_20180101T041600.npy'\n",
        "X = np.load(path)"
      ],
      "metadata": {
        "id": "9Sv2SOm1osgT"
      },
      "execution_count": null,
      "outputs": []
    },
    {
      "cell_type": "code",
      "source": [
        "path = '/content/drive/MyDrive/Colab Notebooks/ZAIT/DATA/masks/S2A_MSIL1C_20180101T010721_N0206_R045_T53HLD_20180101T041600.npy'\n",
        "y = np.load(path)"
      ],
      "metadata": {
        "id": "mKaWelYipCPF"
      },
      "execution_count": null,
      "outputs": []
    },
    {
      "cell_type": "markdown",
      "source": [
        "## Perform Tiling on Dataset\n",
        "Tiling is the concept of breaking your large image into smaller portions in a way that no data is lost. We've performed overlapping tiling with an offset of 0.5 to get desired results."
      ],
      "metadata": {
        "id": "Os4V6HVJa9P3"
      }
    },
    {
      "cell_type": "markdown",
      "source": [
        "### Define Limits\n",
        "These Limits are used to define how many files the program will read, In case of memory issues, user can take a chunk of files by defining the low and high points. Both points represents the file number present in folder."
      ],
      "metadata": {
        "id": "DqUeA1lva5xf"
      }
    },
    {
      "cell_type": "code",
      "source": [
        "low = 0\n",
        "high= 513 #Total Data files"
      ],
      "metadata": {
        "id": "HkgjGdVRV17r"
      },
      "execution_count": null,
      "outputs": []
    },
    {
      "cell_type": "markdown",
      "source": [
        "### Load Masks\n",
        "In this section, Numpy files of Masks dataset (labels) are loaded from disk."
      ],
      "metadata": {
        "id": "fH33q8KuJAbd"
      }
    },
    {
      "cell_type": "code",
      "source": [
        "def read_masks(folder_path):\n",
        "    \"\"\"\n",
        "    Function to read all .npy files present in a folder and tile them\n",
        "    \"\"\"\n",
        "    images = []\n",
        "    for count, file in enumerate(os.listdir(folder_path)):\n",
        "        if file.endswith('.npy') and (count >= low and count < high):\n",
        "            img = np.load(os.path.join(folder_path, file))\n",
        "            # Take only cloud channel\n",
        "            img = tf.convert_to_tensor(img[:, :, 1]) #img shape (1022,1022)\n",
        "            images.append(img)\n",
        "    return images\n",
        "\n",
        "folder_path = '/content/drive/MyDrive/masks'\n",
        "with tf.device(device):\n",
        "  masks = read_masks(folder_path)\n",
        "masks = np.array(masks)"
      ],
      "metadata": {
        "id": "WVmLlqaD7Hir"
      },
      "execution_count": null,
      "outputs": []
    },
    {
      "cell_type": "markdown",
      "source": [
        "### Load Subscenes\n",
        "In this section, Numpy files of Subscenes dataset (labels) are loaded from disk"
      ],
      "metadata": {
        "id": "rN0VG-HUJFju"
      }
    },
    {
      "cell_type": "code",
      "source": [
        "def read_subscene(folder_path):\n",
        "    \"\"\"\n",
        "    Function to read all .npy files present in a folder and tile them\n",
        "    \"\"\"\n",
        "    images = []\n",
        "    count= 0\n",
        "    for file in os.listdir(folder_path):\n",
        "        if file.endswith('.npy') and (count >= low and count < high):\n",
        "            img = np.load(os.path.join(folder_path, file))\n",
        "            img = tf.convert_to_tensor(img, dtype=tf.float32)\n",
        "            img = tf.concat((img[..., :3], img[..., 7:8]), axis=-1)\n",
        "            images.append(img)\n",
        "        count = count+1\n",
        "    return images\n",
        "\n",
        "\n",
        "# Read all .npy files present in the folder images and convert them in tiles\n",
        "folder_path = '/content/drive/MyDrive/subscenes/subscenes'\n",
        "with tf.device(device):\n",
        "  subscenes = read_subscene(folder_path)\n",
        "\n",
        "subscenes = np.array(subscenes)"
      ],
      "metadata": {
        "id": "8hvrGyHr7StU"
      },
      "execution_count": null,
      "outputs": []
    },
    {
      "cell_type": "markdown",
      "source": [
        "# Tiling"
      ],
      "metadata": {
        "id": "-Zves5xt8dQ4"
      }
    },
    {
      "cell_type": "code",
      "source": [
        "# Function to perform tiling on masks provided\n",
        "def tile_img(img, size, overlap=0.5):\n",
        "    \"\"\"\n",
        "    Function to tile an input image into overlapping tiles\n",
        "    \"\"\"\n",
        "    tiles = []\n",
        "\n",
        "    if len(img.shape) == 3:\n",
        "      total, height, width = img.shape\n",
        "    elif len(img.shape) == 4:\n",
        "       total, height, width, channel = img.shape\n",
        "    # Select Tile Size\n",
        "    tile_h, tile_w = size[:2]\n",
        "    # Calculate Offset\n",
        "    offset_h = int(tile_h * overlap)\n",
        "    offset_w = int(tile_w * overlap)\n",
        "    for x in range(total):\n",
        "      for i in range(0, height-tile_h+1, offset_h):\n",
        "          for j in range(0, width-tile_w+1, offset_w):\n",
        "            # If its a subscene\n",
        "            if len(img.shape) == 4:\n",
        "              tiles.append(img[x, i:i+tile_h, j:j+tile_w, :])\n",
        "\n",
        "            # If its a mask\n",
        "            elif len(img.shape) == 3:\n",
        "              tiles.append(img[x, i:i+tile_h, j:j+tile_w])\n",
        "\n",
        "    return tiles"
      ],
      "metadata": {
        "id": "kAk9Q4a38e7k"
      },
      "execution_count": null,
      "outputs": []
    },
    {
      "cell_type": "markdown",
      "source": [
        "### Save Datasets\n",
        "Once the data is processed and tiled, We can save in google drive"
      ],
      "metadata": {
        "id": "frKFQMjSJInN"
      }
    },
    {
      "cell_type": "code",
      "source": [
        "path = '/content/drive/MyDrive/Colab Notebooks/ZAIT/DATA/subscenes.npy'\n",
        "np.save(path, X)"
      ],
      "metadata": {
        "id": "RWnZJvG2ny6D"
      },
      "execution_count": null,
      "outputs": []
    },
    {
      "cell_type": "code",
      "source": [
        "path = '/content/drive/MyDrive/Colab Notebooks/ZAIT/DATA/masks.npy'\n",
        "np.save(path, y)"
      ],
      "metadata": {
        "id": "oMJRzUUnoLbo"
      },
      "execution_count": null,
      "outputs": []
    },
    {
      "cell_type": "markdown",
      "source": [
        "## Check Shape of Data\n",
        "In order to confirm shape of data loaded or processed, We can call these two cells below:"
      ],
      "metadata": {
        "id": "_l06pYm2QjOT"
      }
    },
    {
      "cell_type": "code",
      "source": [
        "np.shape(subscenes)"
      ],
      "metadata": {
        "id": "x-dkEVOyXAEs",
        "colab": {
          "base_uri": "https://localhost:8080/"
        },
        "outputId": "e1ad86e3-7802-473f-d06d-5f8fa9d0106b"
      },
      "execution_count": null,
      "outputs": [
        {
          "output_type": "execute_result",
          "data": {
            "text/plain": [
              "(30, 1022, 1022, 4)"
            ]
          },
          "metadata": {},
          "execution_count": 9
        }
      ]
    },
    {
      "cell_type": "code",
      "source": [
        "np.shape(masks)"
      ],
      "metadata": {
        "id": "83KCqdCqUao5",
        "colab": {
          "base_uri": "https://localhost:8080/"
        },
        "outputId": "87e7214c-fe69-44e5-e9c2-cc28ccc58c4a"
      },
      "execution_count": null,
      "outputs": [
        {
          "output_type": "execute_result",
          "data": {
            "text/plain": [
              "(30, 1022, 1022)"
            ]
          },
          "metadata": {},
          "execution_count": 10
        }
      ]
    },
    {
      "cell_type": "code",
      "source": [
        "# Extract the first three bands (R, G, B)\n",
        "rgb_data = subscenes[:, :, :, :3]\n",
        "\n",
        "# Create a subplot with a shape of (2, 10)\n",
        "fig, axs = plt.subplots(10, 2, figsize=(20, 20))\n",
        "\n",
        "# Iterate over each image and display the ground truth masks and RGB images\n",
        "for i in range(subscenes.shape[0]):\n",
        "    axs[i, 0].imshow(masks[i], cmap=custom_cmap, vmin=0, vmax=1)\n",
        "    axs[i, 0].axis('off')\n",
        "    axs[i, 0].set_title('Mask {}'.format(i+1))\n",
        "\n",
        "    axs[i, 1].imshow(rgb_data[i])\n",
        "    axs[i, 1].axis('off')\n",
        "    axs[i, 1].set_title('Image {}'.format(i+1))\n",
        "\n",
        "plt.tight_layout()\n",
        "plt.show()"
      ],
      "metadata": {
        "id": "4ktusIO_KEr7"
      },
      "execution_count": null,
      "outputs": []
    },
    {
      "cell_type": "markdown",
      "source": [
        "## Perform Tiling"
      ],
      "metadata": {
        "id": "pGnmlDVa9Zc-"
      }
    },
    {
      "cell_type": "code",
      "source": [
        "tiles_subscenes = tile_img(subscenes, (384,384,4), 0.5)\n",
        "tiles_masks = tile_img(masks, (384,384), 0.5)"
      ],
      "metadata": {
        "id": "0ZhdMn5x9bFx"
      },
      "execution_count": null,
      "outputs": []
    },
    {
      "cell_type": "code",
      "source": [
        "print(np.shape(tiles_subscenes))\n",
        "print(np.shape(tiles_masks))\n"
      ],
      "metadata": {
        "colab": {
          "base_uri": "https://localhost:8080/"
        },
        "id": "pCBJkVZO9pUh",
        "outputId": "74f195f0-8a56-4b34-ce77-d524d0638c98"
      },
      "execution_count": null,
      "outputs": [
        {
          "output_type": "stream",
          "name": "stdout",
          "text": [
            "(480, 384, 384, 4)\n",
            "(480, 384, 384)\n"
          ]
        }
      ]
    },
    {
      "cell_type": "code",
      "source": [
        "tiles_subscenes = np.array(tiles_subscenes)\n",
        "tile_masks = np.array(tiles_masks)"
      ],
      "metadata": {
        "id": "GFoPzAN7-NaA"
      },
      "execution_count": null,
      "outputs": []
    },
    {
      "cell_type": "markdown",
      "metadata": {
        "id": "Q_f-Ciw1wP9R"
      },
      "source": [
        "## Data Visualization\n",
        "Data of Subscenes and Labels in the form of tiles are visualized in this section:"
      ]
    },
    {
      "cell_type": "markdown",
      "source": [
        "###! Important\n",
        "Data Will not be visualized if datset is transposed and is processed according to the required shape of model\n"
      ],
      "metadata": {
        "id": "1xA_3EAx-F4z"
      }
    },
    {
      "cell_type": "code",
      "source": [
        "# Must RUN ONCE if you need to visualize the data\n",
        "custom_cmap = ListedColormap(['black', 'white'])"
      ],
      "metadata": {
        "id": "8Z4FRvpbJnhD"
      },
      "execution_count": null,
      "outputs": []
    },
    {
      "cell_type": "markdown",
      "metadata": {
        "id": "kfICDuj3wh2s"
      },
      "source": [
        "## Build Model\n",
        "UNet is build in this section.\n",
        "The original model proposed in the paper do not contain Batch Normalization, but for optimal solution to our problem, we have used Batch Normalization in convolution block of the model used in both encoder and decoder."
      ]
    },
    {
      "cell_type": "code",
      "source": [
        "def conv_block(input, num_filters):\n",
        "    x = Conv2D(filters= num_filters, kernel_size= 3, padding=\"same\")(input)\n",
        "    x = BatchNormalization()(x)\n",
        "    x = Activation(\"relu\")(x)\n",
        "\n",
        "    x = Conv2D(filters= num_filters, kernel_size= 3, padding=\"same\")(x)\n",
        "    x = BatchNormalization()(x)\n",
        "    x = Activation(\"relu\")(x)\n",
        "    return x\n",
        "\n",
        "#Encoder block: Conv block followed by maxpooling\n",
        "def encoder_block(input, num_filters):\n",
        "    x = conv_block(input, num_filters)\n",
        "    p = MaxPool2D((2, 2))(x)\n",
        "    return x, p\n",
        "\n",
        "#Decoder block\n",
        "#skip features gets input from encoder for concatenation\n",
        "def decoder_block(input, skip_features, num_filters):\n",
        "    x = Conv2DTranspose(filters= num_filters, kernel_size= (2, 2), strides=2, padding=\"same\")(input)\n",
        "    x = Concatenate()([x, skip_features])\n",
        "    x = conv_block(x, num_filters)\n",
        "    return x\n",
        "\n",
        "#Build Unet using the blocks\n",
        "def build_unet(input_shape):\n",
        "    inputs = Input(input_shape)\n",
        "\n",
        "    s1, p1 = encoder_block(inputs, 64)\n",
        "    s2, p2 = encoder_block(p1, 128)\n",
        "    s3, p3 = encoder_block(p2, 256)\n",
        "    s4, p4 = encoder_block(p3, 512)\n",
        "\n",
        "    b1 = conv_block(p4, 1024) #Bridge\n",
        "\n",
        "    d1 = decoder_block(b1, s4, 512)\n",
        "    d2 = decoder_block(d1, s3, 256)\n",
        "    d3 = decoder_block(d2, s2, 128)\n",
        "    d4 = decoder_block(d3, s1, 64)\n",
        "    outputs = Conv2D(filters=1, kernel_size=1, padding=\"same\", activation='sigmoid')(d4)\n",
        "    #outputs = tf.keras.backend.round(outputs)  # Round the output to 0 or 1\n",
        "    model = Model(inputs, outputs, name=\"U-Net\")\n",
        "    return model\n",
        "\n",
        "segmentation_model = build_unet((384,384,4))"
      ],
      "metadata": {
        "id": "wgKWXgNKE6_t"
      },
      "execution_count": null,
      "outputs": []
    },
    {
      "cell_type": "markdown",
      "source": [
        "## Load the Model\n",
        "In case if you already have a pretrained model present in google drive, give a path and load the model in colab."
      ],
      "metadata": {
        "id": "5yj6_smZTG1R"
      }
    },
    {
      "cell_type": "code",
      "source": [
        "path = ('/content/drive/MyDrive/saved_model.pb')\n",
        "segmentation_model = tf.keras.models.load_model(path)"
      ],
      "metadata": {
        "id": "WTVkRBVCO2jb"
      },
      "execution_count": null,
      "outputs": []
    },
    {
      "cell_type": "markdown",
      "source": [
        "To print the summary of model: run the following cell:"
      ],
      "metadata": {
        "id": "yeHJnX1m88Uk"
      }
    },
    {
      "cell_type": "code",
      "execution_count": null,
      "metadata": {
        "id": "HmI2Fj6xwvu3",
        "colab": {
          "base_uri": "https://localhost:8080/"
        },
        "outputId": "9aaa6bef-4f14-4516-deb9-47b3e6c85177"
      },
      "outputs": [
        {
          "output_type": "stream",
          "name": "stdout",
          "text": [
            "Model: \"U-Net\"\n",
            "__________________________________________________________________________________________________\n",
            " Layer (type)                   Output Shape         Param #     Connected to                     \n",
            "==================================================================================================\n",
            " input_1 (InputLayer)           [(None, 384, 384, 4  0           []                               \n",
            "                                )]                                                                \n",
            "                                                                                                  \n",
            " conv2d (Conv2D)                (None, 384, 384, 64  2368        ['input_1[0][0]']                \n",
            "                                )                                                                 \n",
            "                                                                                                  \n",
            " batch_normalization (BatchNorm  (None, 384, 384, 64  256        ['conv2d[0][0]']                 \n",
            " alization)                     )                                                                 \n",
            "                                                                                                  \n",
            " activation (Activation)        (None, 384, 384, 64  0           ['batch_normalization[0][0]']    \n",
            "                                )                                                                 \n",
            "                                                                                                  \n",
            " conv2d_1 (Conv2D)              (None, 384, 384, 64  36928       ['activation[0][0]']             \n",
            "                                )                                                                 \n",
            "                                                                                                  \n",
            " batch_normalization_1 (BatchNo  (None, 384, 384, 64  256        ['conv2d_1[0][0]']               \n",
            " rmalization)                   )                                                                 \n",
            "                                                                                                  \n",
            " activation_1 (Activation)      (None, 384, 384, 64  0           ['batch_normalization_1[0][0]']  \n",
            "                                )                                                                 \n",
            "                                                                                                  \n",
            " max_pooling2d (MaxPooling2D)   (None, 192, 192, 64  0           ['activation_1[0][0]']           \n",
            "                                )                                                                 \n",
            "                                                                                                  \n",
            " conv2d_2 (Conv2D)              (None, 192, 192, 12  73856       ['max_pooling2d[0][0]']          \n",
            "                                8)                                                                \n",
            "                                                                                                  \n",
            " batch_normalization_2 (BatchNo  (None, 192, 192, 12  512        ['conv2d_2[0][0]']               \n",
            " rmalization)                   8)                                                                \n",
            "                                                                                                  \n",
            " activation_2 (Activation)      (None, 192, 192, 12  0           ['batch_normalization_2[0][0]']  \n",
            "                                8)                                                                \n",
            "                                                                                                  \n",
            " conv2d_3 (Conv2D)              (None, 192, 192, 12  147584      ['activation_2[0][0]']           \n",
            "                                8)                                                                \n",
            "                                                                                                  \n",
            " batch_normalization_3 (BatchNo  (None, 192, 192, 12  512        ['conv2d_3[0][0]']               \n",
            " rmalization)                   8)                                                                \n",
            "                                                                                                  \n",
            " activation_3 (Activation)      (None, 192, 192, 12  0           ['batch_normalization_3[0][0]']  \n",
            "                                8)                                                                \n",
            "                                                                                                  \n",
            " max_pooling2d_1 (MaxPooling2D)  (None, 96, 96, 128)  0          ['activation_3[0][0]']           \n",
            "                                                                                                  \n",
            " conv2d_4 (Conv2D)              (None, 96, 96, 256)  295168      ['max_pooling2d_1[0][0]']        \n",
            "                                                                                                  \n",
            " batch_normalization_4 (BatchNo  (None, 96, 96, 256)  1024       ['conv2d_4[0][0]']               \n",
            " rmalization)                                                                                     \n",
            "                                                                                                  \n",
            " activation_4 (Activation)      (None, 96, 96, 256)  0           ['batch_normalization_4[0][0]']  \n",
            "                                                                                                  \n",
            " conv2d_5 (Conv2D)              (None, 96, 96, 256)  590080      ['activation_4[0][0]']           \n",
            "                                                                                                  \n",
            " batch_normalization_5 (BatchNo  (None, 96, 96, 256)  1024       ['conv2d_5[0][0]']               \n",
            " rmalization)                                                                                     \n",
            "                                                                                                  \n",
            " activation_5 (Activation)      (None, 96, 96, 256)  0           ['batch_normalization_5[0][0]']  \n",
            "                                                                                                  \n",
            " max_pooling2d_2 (MaxPooling2D)  (None, 48, 48, 256)  0          ['activation_5[0][0]']           \n",
            "                                                                                                  \n",
            " conv2d_6 (Conv2D)              (None, 48, 48, 512)  1180160     ['max_pooling2d_2[0][0]']        \n",
            "                                                                                                  \n",
            " batch_normalization_6 (BatchNo  (None, 48, 48, 512)  2048       ['conv2d_6[0][0]']               \n",
            " rmalization)                                                                                     \n",
            "                                                                                                  \n",
            " activation_6 (Activation)      (None, 48, 48, 512)  0           ['batch_normalization_6[0][0]']  \n",
            "                                                                                                  \n",
            " conv2d_7 (Conv2D)              (None, 48, 48, 512)  2359808     ['activation_6[0][0]']           \n",
            "                                                                                                  \n",
            " batch_normalization_7 (BatchNo  (None, 48, 48, 512)  2048       ['conv2d_7[0][0]']               \n",
            " rmalization)                                                                                     \n",
            "                                                                                                  \n",
            " activation_7 (Activation)      (None, 48, 48, 512)  0           ['batch_normalization_7[0][0]']  \n",
            "                                                                                                  \n",
            " max_pooling2d_3 (MaxPooling2D)  (None, 24, 24, 512)  0          ['activation_7[0][0]']           \n",
            "                                                                                                  \n",
            " conv2d_8 (Conv2D)              (None, 24, 24, 1024  4719616     ['max_pooling2d_3[0][0]']        \n",
            "                                )                                                                 \n",
            "                                                                                                  \n",
            " batch_normalization_8 (BatchNo  (None, 24, 24, 1024  4096       ['conv2d_8[0][0]']               \n",
            " rmalization)                   )                                                                 \n",
            "                                                                                                  \n",
            " activation_8 (Activation)      (None, 24, 24, 1024  0           ['batch_normalization_8[0][0]']  \n",
            "                                )                                                                 \n",
            "                                                                                                  \n",
            " conv2d_9 (Conv2D)              (None, 24, 24, 1024  9438208     ['activation_8[0][0]']           \n",
            "                                )                                                                 \n",
            "                                                                                                  \n",
            " batch_normalization_9 (BatchNo  (None, 24, 24, 1024  4096       ['conv2d_9[0][0]']               \n",
            " rmalization)                   )                                                                 \n",
            "                                                                                                  \n",
            " activation_9 (Activation)      (None, 24, 24, 1024  0           ['batch_normalization_9[0][0]']  \n",
            "                                )                                                                 \n",
            "                                                                                                  \n",
            " conv2d_transpose (Conv2DTransp  (None, 48, 48, 512)  2097664    ['activation_9[0][0]']           \n",
            " ose)                                                                                             \n",
            "                                                                                                  \n",
            " concatenate (Concatenate)      (None, 48, 48, 1024  0           ['conv2d_transpose[0][0]',       \n",
            "                                )                                 'activation_7[0][0]']           \n",
            "                                                                                                  \n",
            " conv2d_10 (Conv2D)             (None, 48, 48, 512)  4719104     ['concatenate[0][0]']            \n",
            "                                                                                                  \n",
            " batch_normalization_10 (BatchN  (None, 48, 48, 512)  2048       ['conv2d_10[0][0]']              \n",
            " ormalization)                                                                                    \n",
            "                                                                                                  \n",
            " activation_10 (Activation)     (None, 48, 48, 512)  0           ['batch_normalization_10[0][0]'] \n",
            "                                                                                                  \n",
            " conv2d_11 (Conv2D)             (None, 48, 48, 512)  2359808     ['activation_10[0][0]']          \n",
            "                                                                                                  \n",
            " batch_normalization_11 (BatchN  (None, 48, 48, 512)  2048       ['conv2d_11[0][0]']              \n",
            " ormalization)                                                                                    \n",
            "                                                                                                  \n",
            " activation_11 (Activation)     (None, 48, 48, 512)  0           ['batch_normalization_11[0][0]'] \n",
            "                                                                                                  \n",
            " conv2d_transpose_1 (Conv2DTran  (None, 96, 96, 256)  524544     ['activation_11[0][0]']          \n",
            " spose)                                                                                           \n",
            "                                                                                                  \n",
            " concatenate_1 (Concatenate)    (None, 96, 96, 512)  0           ['conv2d_transpose_1[0][0]',     \n",
            "                                                                  'activation_5[0][0]']           \n",
            "                                                                                                  \n",
            " conv2d_12 (Conv2D)             (None, 96, 96, 256)  1179904     ['concatenate_1[0][0]']          \n",
            "                                                                                                  \n",
            " batch_normalization_12 (BatchN  (None, 96, 96, 256)  1024       ['conv2d_12[0][0]']              \n",
            " ormalization)                                                                                    \n",
            "                                                                                                  \n",
            " activation_12 (Activation)     (None, 96, 96, 256)  0           ['batch_normalization_12[0][0]'] \n",
            "                                                                                                  \n",
            " conv2d_13 (Conv2D)             (None, 96, 96, 256)  590080      ['activation_12[0][0]']          \n",
            "                                                                                                  \n",
            " batch_normalization_13 (BatchN  (None, 96, 96, 256)  1024       ['conv2d_13[0][0]']              \n",
            " ormalization)                                                                                    \n",
            "                                                                                                  \n",
            " activation_13 (Activation)     (None, 96, 96, 256)  0           ['batch_normalization_13[0][0]'] \n",
            "                                                                                                  \n",
            " conv2d_transpose_2 (Conv2DTran  (None, 192, 192, 12  131200     ['activation_13[0][0]']          \n",
            " spose)                         8)                                                                \n",
            "                                                                                                  \n",
            " concatenate_2 (Concatenate)    (None, 192, 192, 25  0           ['conv2d_transpose_2[0][0]',     \n",
            "                                6)                                'activation_3[0][0]']           \n",
            "                                                                                                  \n",
            " conv2d_14 (Conv2D)             (None, 192, 192, 12  295040      ['concatenate_2[0][0]']          \n",
            "                                8)                                                                \n",
            "                                                                                                  \n",
            " batch_normalization_14 (BatchN  (None, 192, 192, 12  512        ['conv2d_14[0][0]']              \n",
            " ormalization)                  8)                                                                \n",
            "                                                                                                  \n",
            " activation_14 (Activation)     (None, 192, 192, 12  0           ['batch_normalization_14[0][0]'] \n",
            "                                8)                                                                \n",
            "                                                                                                  \n",
            " conv2d_15 (Conv2D)             (None, 192, 192, 12  147584      ['activation_14[0][0]']          \n",
            "                                8)                                                                \n",
            "                                                                                                  \n",
            " batch_normalization_15 (BatchN  (None, 192, 192, 12  512        ['conv2d_15[0][0]']              \n",
            " ormalization)                  8)                                                                \n",
            "                                                                                                  \n",
            " activation_15 (Activation)     (None, 192, 192, 12  0           ['batch_normalization_15[0][0]'] \n",
            "                                8)                                                                \n",
            "                                                                                                  \n",
            " conv2d_transpose_3 (Conv2DTran  (None, 384, 384, 64  32832      ['activation_15[0][0]']          \n",
            " spose)                         )                                                                 \n",
            "                                                                                                  \n",
            " concatenate_3 (Concatenate)    (None, 384, 384, 12  0           ['conv2d_transpose_3[0][0]',     \n",
            "                                8)                                'activation_1[0][0]']           \n",
            "                                                                                                  \n",
            " conv2d_16 (Conv2D)             (None, 384, 384, 64  73792       ['concatenate_3[0][0]']          \n",
            "                                )                                                                 \n",
            "                                                                                                  \n",
            " batch_normalization_16 (BatchN  (None, 384, 384, 64  256        ['conv2d_16[0][0]']              \n",
            " ormalization)                  )                                                                 \n",
            "                                                                                                  \n",
            " activation_16 (Activation)     (None, 384, 384, 64  0           ['batch_normalization_16[0][0]'] \n",
            "                                )                                                                 \n",
            "                                                                                                  \n",
            " conv2d_17 (Conv2D)             (None, 384, 384, 64  36928       ['activation_16[0][0]']          \n",
            "                                )                                                                 \n",
            "                                                                                                  \n",
            " batch_normalization_17 (BatchN  (None, 384, 384, 64  256        ['conv2d_17[0][0]']              \n",
            " ormalization)                  )                                                                 \n",
            "                                                                                                  \n",
            " activation_17 (Activation)     (None, 384, 384, 64  0           ['batch_normalization_17[0][0]'] \n",
            "                                )                                                                 \n",
            "                                                                                                  \n",
            " conv2d_18 (Conv2D)             (None, 384, 384, 1)  65          ['activation_17[0][0]']          \n",
            "                                                                                                  \n",
            "==================================================================================================\n",
            "Total params: 31,055,873\n",
            "Trainable params: 31,044,097\n",
            "Non-trainable params: 11,776\n",
            "__________________________________________________________________________________________________\n"
          ]
        }
      ],
      "source": [
        "segmentation_model.summary()"
      ]
    },
    {
      "cell_type": "markdown",
      "metadata": {
        "id": "NRdnyiaBxWUf"
      },
      "source": [
        "## Train the Model using K-fold and Perform grid search\n",
        "The model was trained and evaluated in this process. To find the best performing k value, We've performed grid search."
      ]
    },
    {
      "cell_type": "code",
      "execution_count": null,
      "metadata": {
        "id": "mgUqBGDsSr9h"
      },
      "outputs": [],
      "source": [
        "  # Train the model\n",
        "  k = 2\n",
        "  kf = KFold(n_splits=k)\n",
        "  histories = []\n",
        "  with tf.device(device):\n",
        "      segmentation_model.compile(optimizer=Adam(learning_rate=1e-3), loss='binary_crossentropy', metrics=['accuracy'])\n",
        "      for train_index, val_index in kf.split(tiles_subscenes):\n",
        "          X_train, X_val = np.stack([tiles_subscenes[i] for i in train_index]), np.stack([tiles_subscenes[i] for i in val_index])\n",
        "          y_train, y_val = np.stack([tiles_masks[i] for i in train_index]), np.stack([tiles_masks[i] for i in val_index])\n",
        "\n",
        "\n",
        "          print(np.shape(X_train))\n",
        "          print(np.shape(X_val))\n",
        "          print(np.shape(y_train))\n",
        "          print(np.shape(y_val))\n",
        "\n",
        "          history = segmentation_model.fit(X_train, y_train, epochs=2, batch_size=32, validation_data=(X_val, y_val))\n",
        "          histories.append(history)\n"
      ]
    },
    {
      "cell_type": "markdown",
      "source": [
        "## Plot the histories\n",
        "Plot the loss, accuracy while traininga as well as in validation."
      ],
      "metadata": {
        "id": "v_euD0SlT1nj"
      }
    },
    {
      "cell_type": "code",
      "source": [
        "import pandas as pd\n",
        "\n",
        "# Create lists to store the metrics per epoch\n",
        "loss_per_epoch = []\n",
        "accuracy_per_epoch = []\n",
        "val_loss_per_epoch = []\n",
        "val_accuracy_per_epoch = []\n",
        "\n",
        "# Iterate over the histories and extract metrics per epoch\n",
        "for history in histories:\n",
        "    loss_per_epoch.extend(history.history['loss'])\n",
        "    accuracy_per_epoch.extend(history.history['accuracy'])\n",
        "    val_loss_per_epoch.extend(history.history['val_loss'])\n",
        "    val_accuracy_per_epoch.extend(history.history['val_accuracy'])\n",
        "\n",
        "# Create a dataframe with the metrics per epoch\n",
        "data = {\n",
        "    'loss': loss_per_epoch,\n",
        "    'accuracy': accuracy_per_epoch,\n",
        "    'val_loss': val_loss_per_epoch,\n",
        "    'val_accuracy': val_accuracy_per_epoch\n",
        "}\n",
        "\n",
        "df = pd.DataFrame(data)\n",
        "\n",
        "# Print the dataframe\n",
        "print(df)\n"
      ],
      "metadata": {
        "id": "FE5CqjrCWl3C",
        "colab": {
          "base_uri": "https://localhost:8080/"
        },
        "outputId": "c75f2cbc-2182-4bca-fbb1-849f71748431"
      },
      "execution_count": null,
      "outputs": [
        {
          "output_type": "stream",
          "name": "stdout",
          "text": [
            "       loss  accuracy  val_loss  val_accuracy\n",
            "0  0.503846  0.733073  0.795991      0.537970\n",
            "1  0.455613  0.765185  0.620324      0.745844\n",
            "2  0.421855  0.784889  0.728794      0.713422\n",
            "3  0.404726  0.795873  1.737527      0.427558\n",
            "4  0.397389  0.802393  1.377036      0.473293\n",
            "5  0.378111  0.812000  1.255086      0.814088\n",
            "6  0.415639  0.795760  1.273197      0.204640\n",
            "7  0.394154  0.806787  1.241077      0.432008\n",
            "8  0.407990  0.808695  0.657278      0.486042\n",
            "9  0.380573  0.821782  0.575584      0.691063\n"
          ]
        }
      ]
    },
    {
      "cell_type": "code",
      "source": [
        "import matplotlib.pyplot as plt\n",
        "\n",
        "# Plot the dataframe\n",
        "df.plot(y=['accuracy', 'val_accuracy'], xlabel='Epochs', ylabel='Value')\n",
        "\n",
        "# Set the plot title\n",
        "plt.title('Training History')\n",
        "\n",
        "# Display the plot\n",
        "plt.show()\n"
      ],
      "metadata": {
        "colab": {
          "base_uri": "https://localhost:8080/",
          "height": 472
        },
        "id": "ed6XOftdX1vH",
        "outputId": "006a7f1d-7645-49d2-ef7a-fb2f966a0f3e"
      },
      "execution_count": null,
      "outputs": [
        {
          "output_type": "display_data",
          "data": {
            "text/plain": [
              "<Figure size 640x480 with 1 Axes>"
            ],
            "image/png": "[encoded data removed]"
          },
          "metadata": {}
        }
      ]
    },
    {
      "cell_type": "markdown",
      "source": [
        "## Save the model\n",
        "If you're done training your model and its working fine, you can save the model using the following code:"
      ],
      "metadata": {
        "id": "_UsJd8qObq5U"
      }
    },
    {
      "cell_type": "code",
      "source": [
        "# Save the trained model for future use\n",
        "segmentation_model.save('/content/drive/MyDrive/saved_model.pb')"
      ],
      "metadata": {
        "id": "uPGBBR-YOoiL"
      },
      "execution_count": null,
      "outputs": []
    },
    {
      "cell_type": "markdown",
      "source": [
        "## Convert to ONNX"
      ],
      "metadata": {
        "id": "WqKH4FlcUN-x"
      }
    },
    {
      "cell_type": "code",
      "source": [
        "import tensorflow as tf\n",
        "import tf2onnx\n",
        "import onnx\n",
        "import onnxruntime as rt"
      ],
      "metadata": {
        "id": "RNJj4IuqUPX3"
      },
      "execution_count": null,
      "outputs": []
    },
    {
      "cell_type": "code",
      "source": [
        "input_signature = [tf.TensorSpec([None, 224,224,4], tf.float32, name='x')]\n",
        "# Use from_function for tf functions\n",
        "onnx_model, _ = tf2onnx.convert.from_keras(segmentation_model, input_signature, opset=13)\n",
        "onnx.save(onnx_model, \"model.onnx\")"
      ],
      "metadata": {
        "id": "Ug1yQOTgZ_u4"
      },
      "execution_count": null,
      "outputs": []
    },
    {
      "cell_type": "markdown",
      "source": [
        "# Check Working of ONNX model"
      ],
      "metadata": {
        "id": "VISBRRKxTm9J"
      }
    },
    {
      "cell_type": "code",
      "source": [
        "session = rt.InferenceSession(\"model.onnx\")\n",
        "# Get the input tensor's name and shape\n",
        "input_name = session.get_inputs()[0].name\n",
        "input_shape = session.get_inputs()[0].shape\n",
        "\n",
        "# Generate a sample input tensor\n",
        "input_data = np.expand_dims(tiles_subscenes[68], axis=0).astype(np.float32)\n",
        "\n",
        "# Run inference and get the output tensor\n",
        "output = session.run(None, {input_name: input_data})[0]\n",
        "# Post process\n",
        "result = output[0].squeeze()\n",
        "plt.imshow(result, cmap=custom_cmap, vmin=0, vmax=1)"
      ],
      "metadata": {
        "id": "70XfGer3fsaG"
      },
      "execution_count": null,
      "outputs": []
    }
  ],
  "metadata": {
    "colab": {
      "provenance": [],
      "gpuType": "T4"
    },
    "kernelspec": {
      "display_name": "Python 3",
      "name": "python3"
    },
    "language_info": {
      "name": "python"
    },
    "accelerator": "GPU"
  },
  "nbformat": 4,
  "nbformat_minor": 0
}